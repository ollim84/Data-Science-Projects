{
 "cells": [
  {
   "cell_type": "code",
   "execution_count": 9,
   "metadata": {
    "collapsed": false
   },
   "outputs": [
    {
     "name": "stdout",
     "output_type": "stream",
     "text": [
      "[['', 'year', 'month', 'intent', 'police', 'sex', 'age', 'race', 'hispanic', 'place', 'education'], ['1', '2012', '01', 'Suicide', '0', 'M', '34', 'Asian/Pacific Islander', '100', 'Home', '4'], ['2', '2012', '01', 'Suicide', '0', 'F', '21', 'White', '100', 'Street', '3'], ['3', '2012', '01', 'Suicide', '0', 'M', '60', 'White', '100', 'Other specified', '4'], ['4', '2012', '02', 'Suicide', '0', 'M', '64', 'White', '100', 'Home', '4']]\n"
     ]
    }
   ],
   "source": [
    "import csv\n",
    "\n",
    "with open('guns.csv') as file:\n",
    "    data = list(csv.reader(file))\n",
    "    print(data[:5])"
   ]
  },
  {
   "cell_type": "code",
   "execution_count": 10,
   "metadata": {
    "collapsed": false
   },
   "outputs": [
    {
     "name": "stdout",
     "output_type": "stream",
     "text": [
      "['', 'year', 'month', 'intent', 'police', 'sex', 'age', 'race', 'hispanic', 'place', 'education']\n",
      "[['1', '2012', '01', 'Suicide', '0', 'M', '34', 'Asian/Pacific Islander', '100', 'Home', '4'], ['2', '2012', '01', 'Suicide', '0', 'F', '21', 'White', '100', 'Street', '3'], ['3', '2012', '01', 'Suicide', '0', 'M', '60', 'White', '100', 'Other specified', '4'], ['4', '2012', '02', 'Suicide', '0', 'M', '64', 'White', '100', 'Home', '4'], ['5', '2012', '02', 'Suicide', '0', 'M', '31', 'White', '100', 'Other specified', '2']]\n"
     ]
    }
   ],
   "source": [
    "headers = data[0]\n",
    "data = data[1:]\n",
    "print(headers)\n",
    "print(data[:5])"
   ]
  },
  {
   "cell_type": "code",
   "execution_count": 11,
   "metadata": {
    "collapsed": false
   },
   "outputs": [
    {
     "name": "stdout",
     "output_type": "stream",
     "text": [
      "{'2014': 33599, '2012': 33563, '2013': 33636}\n"
     ]
    }
   ],
   "source": [
    "years = [row[1] for row in data]\n",
    "year_counts = {}\n",
    "\n",
    "for item in years:\n",
    "    if(item not in year_counts):\n",
    "        year_counts[item] = 1\n",
    "    else:\n",
    "        year_counts[item] += 1\n",
    "        \n",
    "print(year_counts)"
   ]
  },
  {
   "cell_type": "code",
   "execution_count": 12,
   "metadata": {
    "collapsed": false
   },
   "outputs": [
    {
     "name": "stdout",
     "output_type": "stream",
     "text": [
      "[datetime.datetime(2012, 1, 1, 0, 0), datetime.datetime(2012, 1, 1, 0, 0), datetime.datetime(2012, 1, 1, 0, 0), datetime.datetime(2012, 2, 1, 0, 0), datetime.datetime(2012, 2, 1, 0, 0)]\n",
      "{datetime.datetime(2012, 3, 1, 0, 0): 2743, datetime.datetime(2013, 3, 1, 0, 0): 2862, datetime.datetime(2012, 10, 1, 0, 0): 2733, datetime.datetime(2012, 8, 1, 0, 0): 2954, datetime.datetime(2013, 1, 1, 0, 0): 2864, datetime.datetime(2013, 2, 1, 0, 0): 2375, datetime.datetime(2014, 6, 1, 0, 0): 2931, datetime.datetime(2012, 11, 1, 0, 0): 2729, datetime.datetime(2014, 2, 1, 0, 0): 2361, datetime.datetime(2012, 7, 1, 0, 0): 3026, datetime.datetime(2012, 4, 1, 0, 0): 2795, datetime.datetime(2013, 5, 1, 0, 0): 2806, datetime.datetime(2013, 9, 1, 0, 0): 2742, datetime.datetime(2014, 11, 1, 0, 0): 2756, datetime.datetime(2012, 5, 1, 0, 0): 2999, datetime.datetime(2014, 9, 1, 0, 0): 2914, datetime.datetime(2013, 8, 1, 0, 0): 2859, datetime.datetime(2013, 10, 1, 0, 0): 2808, datetime.datetime(2014, 10, 1, 0, 0): 2865, datetime.datetime(2012, 2, 1, 0, 0): 2357, datetime.datetime(2012, 12, 1, 0, 0): 2791, datetime.datetime(2013, 12, 1, 0, 0): 2765, datetime.datetime(2012, 9, 1, 0, 0): 2852, datetime.datetime(2014, 3, 1, 0, 0): 2684, datetime.datetime(2012, 6, 1, 0, 0): 2826, datetime.datetime(2014, 5, 1, 0, 0): 2864, datetime.datetime(2012, 1, 1, 0, 0): 2758, datetime.datetime(2014, 1, 1, 0, 0): 2651, datetime.datetime(2013, 6, 1, 0, 0): 2920, datetime.datetime(2013, 4, 1, 0, 0): 2798, datetime.datetime(2014, 12, 1, 0, 0): 2857, datetime.datetime(2014, 8, 1, 0, 0): 2970, datetime.datetime(2013, 11, 1, 0, 0): 2758, datetime.datetime(2013, 7, 1, 0, 0): 3079, datetime.datetime(2014, 4, 1, 0, 0): 2862, datetime.datetime(2014, 7, 1, 0, 0): 2884}\n"
     ]
    }
   ],
   "source": [
    "import datetime\n",
    "dates = [datetime.datetime(year = int(row[1]), month=int(row[2]), day=1) for row in data]\n",
    "print(dates[:5])\n",
    "date_counts = {}\n",
    "\n",
    "for item in dates:\n",
    "    if(item not in date_counts):\n",
    "        date_counts[item] = 1\n",
    "    else:\n",
    "        date_counts[item] += 1\n",
    "print(date_counts)"
   ]
  },
  {
   "cell_type": "code",
   "execution_count": 13,
   "metadata": {
    "collapsed": false
   },
   "outputs": [
    {
     "name": "stdout",
     "output_type": "stream",
     "text": [
      "{'M': 86349, 'F': 14449}\n",
      "{'Asian/Pacific Islander': 1326, 'Native American/Native Alaskan': 917, 'White': 66237, 'Black': 23296, 'Hispanic': 9022}\n"
     ]
    }
   ],
   "source": [
    "sex = [row[5] for row in data]\n",
    "sex_counts = {}\n",
    "\n",
    "races = [row[7] for row in data]\n",
    "race_counts = {}\n",
    "\n",
    "for item in sex:\n",
    "    if(item not in sex_counts):\n",
    "        sex_counts[item] = 1\n",
    "    else:\n",
    "        sex_counts[item] += 1\n",
    "        \n",
    "for item in races:\n",
    "    if(item not in race_counts):\n",
    "        race_counts[item] = 1\n",
    "    else:\n",
    "        race_counts[item] += 1\n",
    "        \n",
    "print(sex_counts)\n",
    "print(race_counts)"
   ]
  },
  {
   "cell_type": "code",
   "execution_count": 14,
   "metadata": {
    "collapsed": false
   },
   "outputs": [
    {
     "name": "stdout",
     "output_type": "stream",
     "text": [
      "[['Id', 'Year', 'Id', 'Sex', 'Id', 'Hispanic Origin', 'Id', 'Id2', 'Geography', 'Total', 'Race Alone - White', 'Race Alone - Hispanic', 'Race Alone - Black or African American', 'Race Alone - American Indian and Alaska Native', 'Race Alone - Asian', 'Race Alone - Native Hawaiian and Other Pacific Islander', 'Two or More Races'], ['cen42010', 'April 1, 2010 Census', 'totsex', 'Both Sexes', 'tothisp', 'Total', '0100000US', '', 'United States', '308745538', '197318956', '44618105', '40250635', '3739506', '15159516', '674625', '6984195']]\n"
     ]
    }
   ],
   "source": [
    "with open('census.csv') as censusfile:\n",
    "    census = list(csv.reader(censusfile))\n",
    "\n",
    "print(census)"
   ]
  },
  {
   "cell_type": "code",
   "execution_count": 15,
   "metadata": {
    "collapsed": false
   },
   "outputs": [
    {
     "name": "stdout",
     "output_type": "stream",
     "text": [
      "{'Asian/Pacific Islander': 8.374309664161762, 'White': 33.56849303419181, 'Native American/Native Alaskan': 24.521955573811088, 'Black': 57.8773477735196, 'Hispanic': 20.220491210910907}\n"
     ]
    }
   ],
   "source": [
    "mapping = {}\n",
    "mapping['Asian/Pacific Islander']= 15159516 + 674625\n",
    "mapping['Black'] = 40250635\n",
    "mapping['Native American/Native Alaskan'] = 3739506\n",
    "mapping['Hispanic'] = 44618105\n",
    "mapping['White'] = 197318956\n",
    "\n",
    "race_per_hundred = {}\n",
    "\n",
    "for entry in race_counts:\n",
    "    race_per_hundred[entry] = race_counts[entry] / mapping[entry] * 100000\n",
    "    \n",
    "print(race_per_hundred)"
   ]
  },
  {
   "cell_type": "code",
   "execution_count": 16,
   "metadata": {
    "collapsed": false
   },
   "outputs": [
    {
     "name": "stdout",
     "output_type": "stream",
     "text": [
      "{'Asian/Pacific Islander': 0.00631546731837237, 'White': 0.0005067936807855399, 'Native American/Native Alaskan': 0.026741500080491917, 'Black': 0.002484432854289131, 'Hispanic': 0.0022412426525061967}\n"
     ]
    }
   ],
   "source": [
    "intents = [row[3] for row in data]\n",
    "races = [row[7] for row in data]\n",
    "homicide_race_counts = {}\n",
    "homicide_per_hundred = {}\n",
    "\n",
    "for i, race in enumerate(races):\n",
    "    if(intents[i] == 'Homicide'):\n",
    "        if(race not in homicide_race_counts):\n",
    "            homicide_race_counts[race] = 1\n",
    "        else:\n",
    "            homicide_race_counts[race] =+ 1\n",
    "            \n",
    "for entry in homicide_race_counts:\n",
    "    homicide_per_hundred[entry] = homicide_race_counts[entry] / mapping[entry] * 100000        \n",
    "\n",
    "print(homicide_per_hundred)\n"
   ]
  }
 ],
 "metadata": {
  "kernelspec": {
   "display_name": "Python 3",
   "language": "python",
   "name": "python3"
  },
  "language_info": {
   "codemirror_mode": {
    "name": "ipython",
    "version": 3
   },
   "file_extension": ".py",
   "mimetype": "text/x-python",
   "name": "python",
   "nbconvert_exporter": "python",
   "pygments_lexer": "ipython3",
   "version": "3.4.3"
  }
 },
 "nbformat": 4,
 "nbformat_minor": 0
}
