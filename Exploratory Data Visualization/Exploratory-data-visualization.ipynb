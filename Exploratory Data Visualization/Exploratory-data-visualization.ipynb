{
 "cells": [
  {
   "cell_type": "markdown",
   "metadata": {},
   "source": [
    "# Visualizing Earnings based on college majors"
   ]
  },
  {
   "cell_type": "markdown",
   "metadata": {},
   "source": [
    "## Introduction"
   ]
  },
  {
   "cell_type": "markdown",
   "metadata": {
    "collapsed": true
   },
   "source": [
    "This project focuses on a dataset on the job outcomes of students \n",
    "who graduated from college between 2010 and 2012. The original data on \n",
    "job outcomes was released by American Community Survey, \n",
    "which conducts surveys and aggregates the data. FiveThirtyEight cleaned \n",
    "the dataset and released it on their Github repo.\n",
    "https://www.census.gov/programs-surveys/acs/\n",
    "https://github.com/fivethirtyeight/data/tree/master/college-majors\n",
    "\n",
    "Using visualizations, we can start to explore questions from the dataset like:\n",
    "\n",
    "Do students in more popular majors make more money?\n",
    "Using scatter plots\n",
    "How many majors are predominantly male? Predominantly female?\n",
    "Using histograms\n",
    "Which category of majors have the most students?\n",
    "Using bar plots\n",
    "\n",
    "We'll explore how to do these and more while primarily working in pandas. Before we start creating data visualizations, let's import the libraries we need and remove rows containing null values."
   ]
  },
  {
   "cell_type": "markdown",
   "metadata": {},
   "source": [
    "Read the dataset into a DataFrame and start exploring the data."
   ]
  },
  {
   "cell_type": "code",
   "execution_count": null,
   "metadata": {
    "collapsed": false
   },
   "outputs": [
    {
     "name": "stdout",
     "output_type": "stream",
     "text": [
      "Rank                                        1\n",
      "Major_code                               2419\n",
      "Major                   PETROLEUM ENGINEERING\n",
      "Total                                    2339\n",
      "Men                                      2057\n",
      "Women                                     282\n",
      "Major_category                    Engineering\n",
      "ShareWomen                           0.120564\n",
      "Sample_size                                36\n",
      "Employed                                 1976\n",
      "Full_time                                1849\n",
      "Part_time                                 270\n",
      "Full_time_year_round                     1207\n",
      "Unemployed                                 37\n",
      "Unemployment_rate                   0.0183805\n",
      "Median                                 110000\n",
      "P25th                                   95000\n",
      "P75th                                  125000\n",
      "College_jobs                             1534\n",
      "Non_college_jobs                          364\n",
      "Low_wage_jobs                             193\n",
      "Name: 0, dtype: object\n",
      "   Rank  Major_code                                      Major    Total  \\\n",
      "0     1        2419                      PETROLEUM ENGINEERING   2339.0   \n",
      "1     2        2416             MINING AND MINERAL ENGINEERING    756.0   \n",
      "2     3        2415                  METALLURGICAL ENGINEERING    856.0   \n",
      "3     4        2417  NAVAL ARCHITECTURE AND MARINE ENGINEERING   1258.0   \n",
      "4     5        2405                       CHEMICAL ENGINEERING  32260.0   \n",
      "\n",
      "       Men    Women Major_category  ShareWomen  Sample_size  Employed  \\\n",
      "0   2057.0    282.0    Engineering    0.120564           36      1976   \n",
      "1    679.0     77.0    Engineering    0.101852            7       640   \n",
      "2    725.0    131.0    Engineering    0.153037            3       648   \n",
      "3   1123.0    135.0    Engineering    0.107313           16       758   \n",
      "4  21239.0  11021.0    Engineering    0.341631          289     25694   \n",
      "\n",
      "       ...        Part_time  Full_time_year_round  Unemployed  \\\n",
      "0      ...              270                  1207          37   \n",
      "1      ...              170                   388          85   \n",
      "2      ...              133                   340          16   \n",
      "3      ...              150                   692          40   \n",
      "4      ...             5180                 16697        1672   \n",
      "\n",
      "   Unemployment_rate  Median  P25th   P75th  College_jobs  Non_college_jobs  \\\n",
      "0           0.018381  110000  95000  125000          1534               364   \n",
      "1           0.117241   75000  55000   90000           350               257   \n",
      "2           0.024096   73000  50000  105000           456               176   \n",
      "3           0.050125   70000  43000   80000           529               102   \n",
      "4           0.061098   65000  50000   75000         18314              4440   \n",
      "\n",
      "   Low_wage_jobs  \n",
      "0            193  \n",
      "1             50  \n",
      "2              0  \n",
      "3              0  \n",
      "4            972  \n",
      "\n",
      "[5 rows x 21 columns]\n",
      "     Rank  Major_code                   Major   Total     Men   Women  \\\n",
      "168   169        3609                 ZOOLOGY  8409.0  3050.0  5359.0   \n",
      "169   170        5201  EDUCATIONAL PSYCHOLOGY  2854.0   522.0  2332.0   \n",
      "170   171        5202     CLINICAL PSYCHOLOGY  2838.0   568.0  2270.0   \n",
      "171   172        5203   COUNSELING PSYCHOLOGY  4626.0   931.0  3695.0   \n",
      "172   173        3501         LIBRARY SCIENCE  1098.0   134.0   964.0   \n",
      "\n",
      "               Major_category  ShareWomen  Sample_size  Employed  \\\n",
      "168    Biology & Life Science    0.637293           47      6259   \n",
      "169  Psychology & Social Work    0.817099            7      2125   \n",
      "170  Psychology & Social Work    0.799859           13      2101   \n",
      "171  Psychology & Social Work    0.798746           21      3777   \n",
      "172                 Education    0.877960            2       742   \n",
      "\n",
      "         ...        Part_time  Full_time_year_round  Unemployed  \\\n",
      "168      ...             2190                  3602         304   \n",
      "169      ...              572                  1211         148   \n",
      "170      ...              648                  1293         368   \n",
      "171      ...              965                  2738         214   \n",
      "172      ...              237                   410          87   \n",
      "\n",
      "     Unemployment_rate  Median  P25th  P75th  College_jobs  Non_college_jobs  \\\n",
      "168           0.046320   26000  20000  39000          2771              2947   \n",
      "169           0.065112   25000  24000  34000          1488               615   \n",
      "170           0.149048   25000  25000  40000           986               870   \n",
      "171           0.053621   23400  19200  26000          2403              1245   \n",
      "172           0.104946   22000  20000  22000           288               338   \n",
      "\n",
      "     Low_wage_jobs  \n",
      "168            743  \n",
      "169             82  \n",
      "170            622  \n",
      "171            308  \n",
      "172            192  \n",
      "\n",
      "[5 rows x 21 columns]\n"
     ]
    }
   ],
   "source": [
    "import pandas as pd\n",
    "import matplotlib.pyplot as plt\n",
    "%matplotlib inline\n",
    "\n",
    "recent_grads = pd.read_csv('recent-grads.csv')\n",
    "first_row = recent_grads.iloc[0]\n",
    "print(first_row)\n",
    "print(recent_grads.head())\n",
    "print(recent_grads.tail())\n",
    "recent_grads.describe()"
   ]
  },
  {
   "cell_type": "markdown",
   "metadata": {},
   "source": [
    "Drop rows with missing values. Matplotlib expects that columns \n",
    "of values we pass in have matching lengths and missing values will \n",
    "cause matplotlib to throw errors."
   ]
  },
  {
   "cell_type": "code",
   "execution_count": null,
   "metadata": {
    "collapsed": false
   },
   "outputs": [],
   "source": [
    "raw_data_count = recent_grads.shape[0]\n",
    "recent_grads = recent_grads.dropna()\n",
    "cleaned_data_count = recent_grads.shape[0]\n",
    "print(\"Raw_data_count: \" + str(raw_data_count))\n",
    "print(\"cleaned_data_count: \" + str(cleaned_data_count))\n"
   ]
  },
  {
   "cell_type": "markdown",
   "metadata": {},
   "source": [
    "## Pandas, Scatter Plots"
   ]
  },
  {
   "cell_type": "markdown",
   "metadata": {},
   "source": [
    "Generate scatter plots in separate jupyter notebook cells to \n",
    "explore the following relations:\n",
    "- Sample_size and Median,\n",
    "- Sample_size and Unemployment_rate,\n",
    "- Full_time and Median,\n",
    "- ShareWomen and Unemployment_rate,\n",
    "- Men and Median,\n",
    "- Women and Median."
   ]
  },
  {
   "cell_type": "code",
   "execution_count": null,
   "metadata": {
    "collapsed": false
   },
   "outputs": [],
   "source": [
    "recent_grads.plot(x='Sample_size', y='Median', \n",
    "                  kind='scatter', title='Sample_size vs. Median',\n",
    "                  )"
   ]
  },
  {
   "cell_type": "code",
   "execution_count": null,
   "metadata": {
    "collapsed": false
   },
   "outputs": [],
   "source": [
    "recent_grads.plot(x='Sample_size', y='Unemployment_rate', \n",
    "                  kind='scatter', title='Sample_size vs. Unemployment_rate', \n",
    "                  )"
   ]
  },
  {
   "cell_type": "code",
   "execution_count": null,
   "metadata": {
    "collapsed": false
   },
   "outputs": [],
   "source": [
    "recent_grads.plot(x='Full_time', y='Median', \n",
    "                  kind='scatter', title='Full_time vs. Median', \n",
    "                  )"
   ]
  },
  {
   "cell_type": "code",
   "execution_count": null,
   "metadata": {
    "collapsed": false
   },
   "outputs": [],
   "source": [
    "recent_grads.plot(x='ShareWomen', y='Unemployment_rate', \n",
    "                  kind='scatter', title='ShareWomen vs. Unemployment_rate', \n",
    "                  )"
   ]
  },
  {
   "cell_type": "code",
   "execution_count": null,
   "metadata": {
    "collapsed": false
   },
   "outputs": [],
   "source": [
    "recent_grads.plot(x='Men', y='Median', \n",
    "                  kind='scatter', title='Men vs. Median', \n",
    "                  )"
   ]
  },
  {
   "cell_type": "code",
   "execution_count": null,
   "metadata": {
    "collapsed": false
   },
   "outputs": [],
   "source": [
    "recent_grads.plot(x='Women', y='Median', \n",
    "                  kind='scatter', title='Women vs. Median', \n",
    "                  )"
   ]
  },
  {
   "cell_type": "markdown",
   "metadata": {},
   "source": [
    "Using the plots we can explore the following questions:\n",
    "\n",
    "Do students in more popular majors make more money?\n",
    "    - By looking at the Sample_size vs. Median scatter plot, there is no clear correlation for this. The Median salary of full-time, year-round workers is not growing linearly with the Sample size.\n",
    "\n",
    "\n",
    "Do students that majored in subjects that were majority female make more money?\n",
    "    - The Women vs Median scatter plot shows no clear \n",
    "    correlation for this. There seems to be a slight trend of declining median linearly with the amount of women. \n",
    "\n",
    "Is there any link between the number of full-time employees and median salary?\n",
    "    - No, there isn't any clear link by looking at the scatter plot Full_time vs Median. There is a slight trend of declining median when the number of full-time employees increases."
   ]
  },
  {
   "cell_type": "markdown",
   "metadata": {},
   "source": [
    "## Pandas, Histograms"
   ]
  },
  {
   "cell_type": "markdown",
   "metadata": {},
   "source": [
    "Generate histograms in separate jupyter notebook cells to explore \n",
    "the distributions of the following columns:\n",
    "- Sample_size\n",
    "- Median\n",
    "- Employed\n",
    "- Full_time\n",
    "- ShareWomen\n",
    "- Unemployment_rate\n",
    "- Men\n",
    "- Women"
   ]
  },
  {
   "cell_type": "code",
   "execution_count": null,
   "metadata": {
    "collapsed": false
   },
   "outputs": [],
   "source": [
    "recent_grads['Sample_size'].hist(bins=10, range=(0,5000))"
   ]
  },
  {
   "cell_type": "code",
   "execution_count": null,
   "metadata": {
    "collapsed": false
   },
   "outputs": [],
   "source": [
    "recent_grads['Median'].hist(bins=12, range=(0,120000))"
   ]
  },
  {
   "cell_type": "code",
   "execution_count": null,
   "metadata": {
    "collapsed": false
   },
   "outputs": [],
   "source": [
    "recent_grads['Employed'].hist(bins=8, range=(0,400000))"
   ]
  },
  {
   "cell_type": "code",
   "execution_count": null,
   "metadata": {
    "collapsed": false
   },
   "outputs": [],
   "source": [
    "recent_grads['Full_time'].hist(bins=12, range=(0,300000))"
   ]
  },
  {
   "cell_type": "code",
   "execution_count": null,
   "metadata": {
    "collapsed": false
   },
   "outputs": [],
   "source": [
    "print((recent_grads['ShareWomen'] > 0.5).value_counts())\n",
    "\n",
    "recent_grads['ShareWomen'].hist(bins=2, range=(0,1))"
   ]
  },
  {
   "cell_type": "code",
   "execution_count": null,
   "metadata": {
    "collapsed": false
   },
   "outputs": [],
   "source": [
    "recent_grads['Unemployment_rate'].hist(bins=8, range=(0,0.20))"
   ]
  },
  {
   "cell_type": "code",
   "execution_count": null,
   "metadata": {
    "collapsed": false
   },
   "outputs": [],
   "source": [
    "recent_grads['Men'].hist(bins=8, range=(0,200000))"
   ]
  },
  {
   "cell_type": "code",
   "execution_count": null,
   "metadata": {
    "collapsed": false
   },
   "outputs": [],
   "source": [
    "recent_grads['Women'].hist(bins=14, range=(0,350000))"
   ]
  },
  {
   "cell_type": "markdown",
   "metadata": {},
   "source": [
    "Using the plots we can explore the following questions:\n",
    "- What percent of majors are predominantly male? Predominantly female?\n",
    "- What's the most common median salary range?\n",
    "\n",
    "Roughly 56 % of the majors are predominanty female and rougly 44 % of the majors are premodimantly male. The most common median salary range is 30 000 - 40 000 based on the Median histogram. "
   ]
  },
  {
   "cell_type": "code",
   "execution_count": null,
   "metadata": {
    "collapsed": false
   },
   "outputs": [],
   "source": [
    "from pandas.plotting import scatter_matrix\n",
    "scatter_matrix(recent_grads[['Sample_size', 'Median']], figsize=(10,10))"
   ]
  },
  {
   "cell_type": "code",
   "execution_count": null,
   "metadata": {
    "collapsed": false
   },
   "outputs": [],
   "source": [
    "scatter_matrix(recent_grads[['Sample_size', 'Median', 'Unemployment_rate']], \n",
    "               figsize=(10,10))"
   ]
  },
  {
   "cell_type": "code",
   "execution_count": null,
   "metadata": {
    "collapsed": false
   },
   "outputs": [],
   "source": [
    "scatter_matrix(recent_grads[['ShareWomen', 'Median']], figsize=(10,10))"
   ]
  },
  {
   "cell_type": "code",
   "execution_count": null,
   "metadata": {
    "collapsed": false
   },
   "outputs": [],
   "source": [
    "scatter_matrix(recent_grads[['Full_time', 'Median']], figsize=(10,10))"
   ]
  },
  {
   "cell_type": "markdown",
   "metadata": {},
   "source": [
    "We can explore the questions from the last few steps using these scatter matrix plots. This may need the creation of more scatter matrix plots.\n",
    "\n",
    "Do students in more popular majors make more money?\n",
    "- This is not evident from the scatter matrix Sample_size vs Median\n",
    "\n",
    "Do students that majored in subjects that were majority female make more money?\n",
    "- The scatter matrix ShareWomen vs Median shows a slight trend of declining median when the ShareWomen increases.\n",
    "\n",
    "Is there any link between the number of full-time employees and median salary?\n",
    "- There is a slight trend of declining median seen from the scatter matrix Full_time vs Median."
   ]
  },
  {
   "cell_type": "markdown",
   "metadata": {},
   "source": [
    "Use bar plots to compare the percentages of women (ShareWomen) from the first ten rows and last ten rows of the recent_grads dataframe."
   ]
  },
  {
   "cell_type": "code",
   "execution_count": null,
   "metadata": {
    "collapsed": false
   },
   "outputs": [],
   "source": [
    "recent_grads[:10].plot.bar(x='Major', y='ShareWomen', legend=False)\n",
    "recent_grads[-10:].plot.bar(x='Major', y='ShareWomen', legend=False)"
   ]
  },
  {
   "cell_type": "markdown",
   "metadata": {},
   "source": [
    "Use bar plots to compare the unemployment rate (Unemployment_rate) from the first ten rows and last ten rows of the recent_grads dataframe."
   ]
  },
  {
   "cell_type": "code",
   "execution_count": null,
   "metadata": {
    "collapsed": false
   },
   "outputs": [],
   "source": [
    "recent_grads[:10].plot.bar(x='Major', y='Unemployment_rate', legend=False)\n",
    "recent_grads[-10:].plot.bar(x='Major', y='Unemployment_rate', legend=False)"
   ]
  },
  {
   "cell_type": "markdown",
   "metadata": {},
   "source": [
    "## Future ideas"
   ]
  },
  {
   "cell_type": "markdown",
   "metadata": {},
   "source": [
    "* Use a grouped bar plot to compare the number of men with the number of women in each category of majors.\n",
    "* Use a box plot to explore the distributions of median salaries and unemployment rate.\n",
    "* Use a hexagonal bin plot to visualize the columns that had dense scatter plots from earlier in the project.\n",
    "\n",
    "http://pandas.pydata.org/pandas-docs/stable/visualization.html"
   ]
  },
  {
   "cell_type": "code",
   "execution_count": null,
   "metadata": {
    "collapsed": false
   },
   "outputs": [],
   "source": [
    "import numpy as np\n",
    "# Use groupby method to group multiple occurrences of major_category \n",
    "grp_bar = recent_grads.groupby('Major_category')\n",
    "#print(grp_bar.groups)\n",
    "\n",
    "## apply an aggregation function agg(np.sum) to the grouped bar\n",
    "plt_grp_bar = grp_bar[['Men','Women']].agg(np.sum)\n",
    "plt_grp_bar.plot.bar()"
   ]
  }
 ],
 "metadata": {
  "kernelspec": {
   "display_name": "Python 3",
   "language": "python",
   "name": "python3"
  },
  "language_info": {
   "codemirror_mode": {
    "name": "ipython",
    "version": 3
   },
   "file_extension": ".py",
   "mimetype": "text/x-python",
   "name": "python",
   "nbconvert_exporter": "python",
   "pygments_lexer": "ipython3",
   "version": "3.4.3"
  }
 },
 "nbformat": 4,
 "nbformat_minor": 0
}
